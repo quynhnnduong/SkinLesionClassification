{
 "cells": [
  {
   "cell_type": "code",
   "execution_count": 46,
   "metadata": {},
   "outputs": [],
   "source": [
    "# Imports\n",
    "import pandas as pd\n",
    "import os\n",
    "import matplotlib.pyplot as plt\n",
    "import seaborn as sns\n",
    "import cv2\n",
    "from tqdm import tqdm\n",
    "from keras.preprocessing.image import ImageDataGenerator,array_to_img,img_to_array,load_img,save_img\n",
    "import numpy as np\n",
    "import sklearn\n",
    "from sklearn.model_selection import train_test_split\n",
    "import shutil\n",
    "import keras\n",
    "from keras import backend as K\n",
    "\n",
    "import tensorflow\n",
    "from keras.layers import Dense, Dropout\n",
    "from keras.optimizers import Adam\n",
    "from keras.metrics import categorical_crossentropy\n",
    "from keras.preprocessing.image import ImageDataGenerator\n",
    "from keras.models import Model\n",
    "from keras.callbacks import EarlyStopping, ReduceLROnPlateau, ModelCheckpoint\n",
    "from keras.applications.vgg16 import VGG16, preprocess_input\n"
   ]
  },
  {
   "cell_type": "markdown",
   "metadata": {},
   "source": [
    "Load Data "
   ]
  },
  {
   "cell_type": "code",
   "execution_count": 4,
   "metadata": {},
   "outputs": [],
   "source": [
    "current_path = os.getcwd()\n",
    "training_directory_path = '/ISIC2019Dataset/ISIC_2019_Training_Input/'\n",
    "training_metadata_path = '/ISIC2019Dataset/ISIC_2019_Training_Metadata.csv'\n",
    "ground_truth_path = '/ISIC2019Dataset/ISIC_2019_Training_GroundTruth.csv'\n",
    "test_directory_path = '/ISIC2019Dataset/ISIC_2019_Test_Input/'\n",
    "test_metadata_path = '/ISIC2019Dataset/ISIC_2019_Test_Metadata.csv'\n",
    "\n",
    "training_metadata_table = pd.read_csv(current_path + training_metadata_path)\n",
    "test_metadata_table = pd.read_csv(current_path + test_metadata_path)\n",
    "ground_truth_table = pd.read_csv(current_path + ground_truth_path)"
   ]
  },
  {
   "cell_type": "markdown",
   "metadata": {},
   "source": [
    "**LABELS**\n",
    "- **MEL** - Melanoma\n",
    "- **NV** - Melanocytic nevus\n",
    "- **BCC** - Basal cell carcinoma\n",
    "- **AK** - Actinic keratosis\n",
    "- **BKL** - Benign keratosis (solar lentigo / seborrheic keratosis / lichen planus-like keratosis)\n",
    "- **DF** - Dermatofibroma\n",
    "- **VASC** - Vascular lesion\n",
    "- **SCC** - Squamous cell carcinoma\n",
    "- **UNK** - None of the above\n"
   ]
  },
  {
   "cell_type": "code",
   "execution_count": 5,
   "metadata": {},
   "outputs": [
    {
     "name": "stdout",
     "output_type": "stream",
     "text": [
      "          image  MEL   NV  BCC   AK  BKL   DF  VASC  SCC  UNK\n",
      "0  ISIC_0000000  0.0  1.0  0.0  0.0  0.0  0.0   0.0  0.0  0.0\n",
      "1  ISIC_0000001  0.0  1.0  0.0  0.0  0.0  0.0   0.0  0.0  0.0\n",
      "2  ISIC_0000002  1.0  0.0  0.0  0.0  0.0  0.0   0.0  0.0  0.0\n",
      "3  ISIC_0000003  0.0  1.0  0.0  0.0  0.0  0.0   0.0  0.0  0.0\n",
      "4  ISIC_0000004  1.0  0.0  0.0  0.0  0.0  0.0   0.0  0.0  0.0\n"
     ]
    }
   ],
   "source": [
    "# ground_truth_table.drop('UNK',axis=1,inplace=True)\n",
    "print(ground_truth_table.head())"
   ]
  },
  {
   "cell_type": "code",
   "execution_count": 6,
   "metadata": {},
   "outputs": [
    {
     "name": "stdout",
     "output_type": "stream",
     "text": [
      "          image  age_approx anatom_site_general lesion_id     sex\n",
      "0  ISIC_0000000        55.0      anterior torso       NaN  female\n",
      "1  ISIC_0000001        30.0      anterior torso       NaN  female\n",
      "2  ISIC_0000002        60.0     upper extremity       NaN  female\n",
      "3  ISIC_0000003        30.0     upper extremity       NaN    male\n",
      "4  ISIC_0000004        80.0     posterior torso       NaN    male\n"
     ]
    }
   ],
   "source": [
    "print(training_metadata_table.head())"
   ]
  },
  {
   "cell_type": "code",
   "execution_count": 7,
   "metadata": {},
   "outputs": [
    {
     "name": "stdout",
     "output_type": "stream",
     "text": [
      "(25331, 5)\n",
      "(25331, 10)\n"
     ]
    }
   ],
   "source": [
    "print(training_metadata_table.shape)\n",
    "print(ground_truth_table.shape)"
   ]
  },
  {
   "cell_type": "code",
   "execution_count": 8,
   "metadata": {},
   "outputs": [
    {
     "data": {
      "text/plain": [
       "image                     0\n",
       "age_approx              437\n",
       "anatom_site_general    2631\n",
       "lesion_id              2084\n",
       "sex                     384\n",
       "dtype: int64"
      ]
     },
     "execution_count": 8,
     "metadata": {},
     "output_type": "execute_result"
    }
   ],
   "source": [
    "training_metadata_table.isnull().sum()"
   ]
  },
  {
   "cell_type": "code",
   "execution_count": 9,
   "metadata": {},
   "outputs": [
    {
     "data": {
      "text/plain": [
       "image                  0\n",
       "age_approx             0\n",
       "anatom_site_general    0\n",
       "lesion_id              0\n",
       "sex                    0\n",
       "dtype: int64"
      ]
     },
     "execution_count": 9,
     "metadata": {},
     "output_type": "execute_result"
    }
   ],
   "source": [
    "training_metadata_table['age_approx'].fillna((training_metadata_table['age_approx'].mean()), inplace=True)\n",
    "training_metadata_table.dropna(subset=['anatom_site_general', 'lesion_id', 'sex'], inplace=True)\n",
    "training_metadata_table.isnull().sum()"
   ]
  },
  {
   "cell_type": "code",
   "execution_count": 10,
   "metadata": {},
   "outputs": [
    {
     "data": {
      "text/plain": [
       "Text(0.5, 1.0, 'Gender of Patient')"
      ]
     },
     "execution_count": 10,
     "metadata": {},
     "output_type": "execute_result"
    },
    {
     "data": {
      "image/png": "[encoded data removed]",
      "text/plain": [
       "<Figure size 300x300 with 1 Axes>"
      ]
     },
     "metadata": {},
     "output_type": "display_data"
    }
   ],
   "source": [
    "bar, ax = plt.subplots(figsize = (3,3))\n",
    "plt.pie(training_metadata_table['sex'].value_counts(), labels = training_metadata_table['sex'].value_counts().index, autopct=\"%.1f%%\")\n",
    "plt.title('Gender of Patient', size=16)"
   ]
  },
  {
   "cell_type": "code",
   "execution_count": 11,
   "metadata": {},
   "outputs": [
    {
     "data": {
      "text/plain": [
       "Text(0.5, 1.0, 'Histogram of Age of Patients')"
      ]
     },
     "execution_count": 11,
     "metadata": {},
     "output_type": "execute_result"
    },
    {
     "data": {
      "image/png": "[encoded data removed]",
      "text/plain": [
       "<Figure size 300x300 with 1 Axes>"
      ]
     },
     "metadata": {},
     "output_type": "display_data"
    }
   ],
   "source": [
    "bar, ax = plt.subplots(figsize=(3, 3))\n",
    "sns.histplot(training_metadata_table['age_approx'])\n",
    "plt.title('Histogram of Age of Patients', size=16)"
   ]
  },
  {
   "cell_type": "code",
   "execution_count": 12,
   "metadata": {},
   "outputs": [
    {
     "data": {
      "text/html": [
       "<div>\n",
       "<style scoped>\n",
       "    .dataframe tbody tr th:only-of-type {\n",
       "        vertical-align: middle;\n",
       "    }\n",
       "\n",
       "    .dataframe tbody tr th {\n",
       "        vertical-align: top;\n",
       "    }\n",
       "\n",
       "    .dataframe thead th {\n",
       "        text-align: right;\n",
       "    }\n",
       "</style>\n",
       "<table border=\"1\" class=\"dataframe\">\n",
       "  <thead>\n",
       "    <tr style=\"text-align: right;\">\n",
       "      <th></th>\n",
       "      <th>Total No. of Missing Values</th>\n",
       "      <th>% of Missing Values</th>\n",
       "    </tr>\n",
       "  </thead>\n",
       "  <tbody>\n",
       "    <tr>\n",
       "      <th>image</th>\n",
       "      <td>0</td>\n",
       "      <td>0.0</td>\n",
       "    </tr>\n",
       "    <tr>\n",
       "      <th>MEL</th>\n",
       "      <td>0</td>\n",
       "      <td>0.0</td>\n",
       "    </tr>\n",
       "    <tr>\n",
       "      <th>NV</th>\n",
       "      <td>0</td>\n",
       "      <td>0.0</td>\n",
       "    </tr>\n",
       "    <tr>\n",
       "      <th>BCC</th>\n",
       "      <td>0</td>\n",
       "      <td>0.0</td>\n",
       "    </tr>\n",
       "    <tr>\n",
       "      <th>AK</th>\n",
       "      <td>0</td>\n",
       "      <td>0.0</td>\n",
       "    </tr>\n",
       "    <tr>\n",
       "      <th>BKL</th>\n",
       "      <td>0</td>\n",
       "      <td>0.0</td>\n",
       "    </tr>\n",
       "    <tr>\n",
       "      <th>DF</th>\n",
       "      <td>0</td>\n",
       "      <td>0.0</td>\n",
       "    </tr>\n",
       "    <tr>\n",
       "      <th>VASC</th>\n",
       "      <td>0</td>\n",
       "      <td>0.0</td>\n",
       "    </tr>\n",
       "    <tr>\n",
       "      <th>SCC</th>\n",
       "      <td>0</td>\n",
       "      <td>0.0</td>\n",
       "    </tr>\n",
       "    <tr>\n",
       "      <th>UNK</th>\n",
       "      <td>0</td>\n",
       "      <td>0.0</td>\n",
       "    </tr>\n",
       "  </tbody>\n",
       "</table>\n",
       "</div>"
      ],
      "text/plain": [
       "       Total No. of Missing Values  % of Missing Values\n",
       "image                            0                  0.0\n",
       "MEL                              0                  0.0\n",
       "NV                               0                  0.0\n",
       "BCC                              0                  0.0\n",
       "AK                               0                  0.0\n",
       "BKL                              0                  0.0\n",
       "DF                               0                  0.0\n",
       "VASC                             0                  0.0\n",
       "SCC                              0                  0.0\n",
       "UNK                              0                  0.0"
      ]
     },
     "execution_count": 12,
     "metadata": {},
     "output_type": "execute_result"
    }
   ],
   "source": [
    "ground_truth_table.replace(['NaN', 'N/A', 'NA', 'n/a', 'n.a.', 'N#A', 'n#a', '?'], 'other', inplace=True)\n",
    "missing_df =  ground_truth_table.isnull().sum().to_frame().rename(columns={0:\"Total No. of Missing Values\"})\n",
    "missing_df[\"% of Missing Values\"] = round((missing_df[\"Total No. of Missing Values\"]/len( ground_truth_table))*100,2)\n",
    "missing_df"
   ]
  },
  {
   "cell_type": "code",
   "execution_count": 13,
   "metadata": {},
   "outputs": [
    {
     "data": {
      "image/png": "[encoded data removed]",
      "text/plain": [
       "<Figure size 1000x500 with 1 Axes>"
      ]
     },
     "metadata": {},
     "output_type": "display_data"
    }
   ],
   "source": [
    "melted_df = pd.melt(ground_truth_table, id_vars=['image'], var_name='Label', value_name='Value')\n",
    "\n",
    "plt.figure(figsize=(10, 5)) \n",
    "sns.countplot(x='Label', hue='Value', data=melted_df)\n",
    "plt.title('Count of 0 vs 1 for Each Skin Disease Label')\n",
    "plt.xlabel('Skin Disease Labels')\n",
    "plt.ylabel('Count')\n",
    "plt.xticks(rotation=45)  \n",
    "plt.show()"
   ]
  },
  {
   "cell_type": "code",
   "execution_count": 14,
   "metadata": {},
   "outputs": [
    {
     "data": {
      "text/html": [
       "<div>\n",
       "<style scoped>\n",
       "    .dataframe tbody tr th:only-of-type {\n",
       "        vertical-align: middle;\n",
       "    }\n",
       "\n",
       "    .dataframe tbody tr th {\n",
       "        vertical-align: top;\n",
       "    }\n",
       "\n",
       "    .dataframe thead th {\n",
       "        text-align: right;\n",
       "    }\n",
       "</style>\n",
       "<table border=\"1\" class=\"dataframe\">\n",
       "  <thead>\n",
       "    <tr style=\"text-align: right;\">\n",
       "      <th></th>\n",
       "      <th>image</th>\n",
       "      <th>MEL</th>\n",
       "      <th>NV</th>\n",
       "      <th>BCC</th>\n",
       "      <th>AK</th>\n",
       "      <th>BKL</th>\n",
       "      <th>DF</th>\n",
       "      <th>VASC</th>\n",
       "      <th>SCC</th>\n",
       "      <th>UNK</th>\n",
       "      <th>label</th>\n",
       "    </tr>\n",
       "  </thead>\n",
       "  <tbody>\n",
       "    <tr>\n",
       "      <th>0</th>\n",
       "      <td>ISIC_0000000</td>\n",
       "      <td>0.0</td>\n",
       "      <td>1.0</td>\n",
       "      <td>0.0</td>\n",
       "      <td>0.0</td>\n",
       "      <td>0.0</td>\n",
       "      <td>0.0</td>\n",
       "      <td>0.0</td>\n",
       "      <td>0.0</td>\n",
       "      <td>0.0</td>\n",
       "      <td>NV</td>\n",
       "    </tr>\n",
       "    <tr>\n",
       "      <th>1</th>\n",
       "      <td>ISIC_0000001</td>\n",
       "      <td>0.0</td>\n",
       "      <td>1.0</td>\n",
       "      <td>0.0</td>\n",
       "      <td>0.0</td>\n",
       "      <td>0.0</td>\n",
       "      <td>0.0</td>\n",
       "      <td>0.0</td>\n",
       "      <td>0.0</td>\n",
       "      <td>0.0</td>\n",
       "      <td>NV</td>\n",
       "    </tr>\n",
       "    <tr>\n",
       "      <th>2</th>\n",
       "      <td>ISIC_0000002</td>\n",
       "      <td>1.0</td>\n",
       "      <td>0.0</td>\n",
       "      <td>0.0</td>\n",
       "      <td>0.0</td>\n",
       "      <td>0.0</td>\n",
       "      <td>0.0</td>\n",
       "      <td>0.0</td>\n",
       "      <td>0.0</td>\n",
       "      <td>0.0</td>\n",
       "      <td>MEL</td>\n",
       "    </tr>\n",
       "    <tr>\n",
       "      <th>3</th>\n",
       "      <td>ISIC_0000003</td>\n",
       "      <td>0.0</td>\n",
       "      <td>1.0</td>\n",
       "      <td>0.0</td>\n",
       "      <td>0.0</td>\n",
       "      <td>0.0</td>\n",
       "      <td>0.0</td>\n",
       "      <td>0.0</td>\n",
       "      <td>0.0</td>\n",
       "      <td>0.0</td>\n",
       "      <td>NV</td>\n",
       "    </tr>\n",
       "    <tr>\n",
       "      <th>4</th>\n",
       "      <td>ISIC_0000004</td>\n",
       "      <td>1.0</td>\n",
       "      <td>0.0</td>\n",
       "      <td>0.0</td>\n",
       "      <td>0.0</td>\n",
       "      <td>0.0</td>\n",
       "      <td>0.0</td>\n",
       "      <td>0.0</td>\n",
       "      <td>0.0</td>\n",
       "      <td>0.0</td>\n",
       "      <td>MEL</td>\n",
       "    </tr>\n",
       "  </tbody>\n",
       "</table>\n",
       "</div>"
      ],
      "text/plain": [
       "          image  MEL   NV  BCC   AK  BKL   DF  VASC  SCC  UNK label\n",
       "0  ISIC_0000000  0.0  1.0  0.0  0.0  0.0  0.0   0.0  0.0  0.0    NV\n",
       "1  ISIC_0000001  0.0  1.0  0.0  0.0  0.0  0.0   0.0  0.0  0.0    NV\n",
       "2  ISIC_0000002  1.0  0.0  0.0  0.0  0.0  0.0   0.0  0.0  0.0   MEL\n",
       "3  ISIC_0000003  0.0  1.0  0.0  0.0  0.0  0.0   0.0  0.0  0.0    NV\n",
       "4  ISIC_0000004  1.0  0.0  0.0  0.0  0.0  0.0   0.0  0.0  0.0   MEL"
      ]
     },
     "execution_count": 14,
     "metadata": {},
     "output_type": "execute_result"
    }
   ],
   "source": [
    "classes=['NV','BCC','AK','BKL','DF','VASC','SCC','MEL']\n",
    "\n",
    "ground_truth_table['label'] = ground_truth_table[classes].idxmax(axis=1)\n",
    "ground_truth_table.head()"
   ]
  },
  {
   "cell_type": "code",
   "execution_count": 15,
   "metadata": {},
   "outputs": [
    {
     "data": {
      "text/html": [
       "<div>\n",
       "<style scoped>\n",
       "    .dataframe tbody tr th:only-of-type {\n",
       "        vertical-align: middle;\n",
       "    }\n",
       "\n",
       "    .dataframe tbody tr th {\n",
       "        vertical-align: top;\n",
       "    }\n",
       "\n",
       "    .dataframe thead th {\n",
       "        text-align: right;\n",
       "    }\n",
       "</style>\n",
       "<table border=\"1\" class=\"dataframe\">\n",
       "  <thead>\n",
       "    <tr style=\"text-align: right;\">\n",
       "      <th></th>\n",
       "      <th>image</th>\n",
       "      <th>age_approx</th>\n",
       "      <th>anatom_site_general</th>\n",
       "      <th>lesion_id</th>\n",
       "      <th>sex</th>\n",
       "      <th>lesion_type</th>\n",
       "      <th>lesion_type_id</th>\n",
       "    </tr>\n",
       "  </thead>\n",
       "  <tbody>\n",
       "    <tr>\n",
       "      <th>0</th>\n",
       "      <td>ISIC_0012653_downsampled</td>\n",
       "      <td>50.0</td>\n",
       "      <td>posterior torso</td>\n",
       "      <td>MSK4_0011169</td>\n",
       "      <td>female</td>\n",
       "      <td>NV</td>\n",
       "      <td>1</td>\n",
       "    </tr>\n",
       "    <tr>\n",
       "      <th>1</th>\n",
       "      <td>ISIC_0012654_downsampled</td>\n",
       "      <td>30.0</td>\n",
       "      <td>lower extremity</td>\n",
       "      <td>MSK4_0011170</td>\n",
       "      <td>female</td>\n",
       "      <td>NV</td>\n",
       "      <td>1</td>\n",
       "    </tr>\n",
       "    <tr>\n",
       "      <th>2</th>\n",
       "      <td>ISIC_0012655_downsampled</td>\n",
       "      <td>35.0</td>\n",
       "      <td>upper extremity</td>\n",
       "      <td>MSK4_0011171</td>\n",
       "      <td>female</td>\n",
       "      <td>NV</td>\n",
       "      <td>1</td>\n",
       "    </tr>\n",
       "    <tr>\n",
       "      <th>3</th>\n",
       "      <td>ISIC_0012656_downsampled</td>\n",
       "      <td>45.0</td>\n",
       "      <td>posterior torso</td>\n",
       "      <td>MSK4_0011172</td>\n",
       "      <td>male</td>\n",
       "      <td>NV</td>\n",
       "      <td>1</td>\n",
       "    </tr>\n",
       "    <tr>\n",
       "      <th>4</th>\n",
       "      <td>ISIC_0012657_downsampled</td>\n",
       "      <td>20.0</td>\n",
       "      <td>upper extremity</td>\n",
       "      <td>MSK4_0011173</td>\n",
       "      <td>female</td>\n",
       "      <td>NV</td>\n",
       "      <td>1</td>\n",
       "    </tr>\n",
       "  </tbody>\n",
       "</table>\n",
       "</div>"
      ],
      "text/plain": [
       "                      image  age_approx anatom_site_general     lesion_id  \\\n",
       "0  ISIC_0012653_downsampled        50.0     posterior torso  MSK4_0011169   \n",
       "1  ISIC_0012654_downsampled        30.0     lower extremity  MSK4_0011170   \n",
       "2  ISIC_0012655_downsampled        35.0     upper extremity  MSK4_0011171   \n",
       "3  ISIC_0012656_downsampled        45.0     posterior torso  MSK4_0011172   \n",
       "4  ISIC_0012657_downsampled        20.0     upper extremity  MSK4_0011173   \n",
       "\n",
       "      sex lesion_type  lesion_type_id  \n",
       "0  female          NV               1  \n",
       "1  female          NV               1  \n",
       "2  female          NV               1  \n",
       "3    male          NV               1  \n",
       "4  female          NV               1  "
      ]
     },
     "execution_count": 15,
     "metadata": {},
     "output_type": "execute_result"
    }
   ],
   "source": [
    "classes=['NV','BCC','AK','BKL','DF','VASC','SCC','MEL']\n",
    "\n",
    "lesion_type_mapping = {lesion: idx+1 for idx, lesion in enumerate(classes)}\n",
    "\n",
    "ground_truth_table['label'] = ground_truth_table[classes].idxmax(axis=1)\n",
    "\n",
    "merged_data = pd.merge(training_metadata_table, ground_truth_table[['image', 'label']], on='image', how='left')\n",
    "\n",
    "merged_data['lesion_type'] = merged_data['label']\n",
    "merged_data['lesion_type_id'] = merged_data['lesion_type'].map(lesion_type_mapping)\n",
    "\n",
    "merged_data = merged_data.drop(columns=['label'])\n",
    "\n",
    "merged_data.head()"
   ]
  },
  {
   "cell_type": "code",
   "execution_count": 16,
   "metadata": {},
   "outputs": [
    {
     "name": "stdout",
     "output_type": "stream",
     "text": [
      "Total images of NV : 12875\n",
      "Total images of BCC : 3323\n",
      "Total images of AK : 867\n",
      "Total images of BKL : 2624\n",
      "Total images of DF : 239\n",
      "Total images of VASC : 253\n",
      "Total images of SCC : 628\n",
      "Total images of MEL : 4522\n"
     ]
    },
    {
     "name": "stderr",
     "output_type": "stream",
     "text": [
      "/tmp/ipykernel_3101551/2760195501.py:8: FutureWarning: \n",
      "\n",
      "Passing `palette` without assigning `hue` is deprecated and will be removed in v0.14.0. Assign the `x` variable to `hue` and set `legend=False` for the same effect.\n",
      "\n",
      "  sns.barplot(x=list(image_counts.keys()), y=list(image_counts.values()), palette=\"viridis\")\n"
     ]
    },
    {
     "data": {
      "image/png": "[encoded data removed]",
      "text/plain": [
       "<Figure size 800x600 with 1 Axes>"
      ]
     },
     "metadata": {},
     "output_type": "display_data"
    }
   ],
   "source": [
    "image_counts = {class_name: len(ground_truth_table[ground_truth_table[class_name] > 0]) for class_name in classes}\n",
    "\n",
    "# Print the total images for each class\n",
    "for class_name in classes:\n",
    "    print(f\"Total images of {class_name} : {image_counts[class_name]}\")\n",
    "\n",
    "plt.figure(figsize=(8, 6))\n",
    "sns.barplot(x=list(image_counts.keys()), y=list(image_counts.values()), palette=\"viridis\")\n",
    "plt.title('Total Images per Class')\n",
    "plt.xlabel('Classes')\n",
    "plt.ylabel('Number of Images')\n",
    "plt.show()"
   ]
  },
  {
   "cell_type": "code",
   "execution_count": 17,
   "metadata": {},
   "outputs": [
    {
     "data": {
      "text/html": [
       "<div>\n",
       "<style scoped>\n",
       "    .dataframe tbody tr th:only-of-type {\n",
       "        vertical-align: middle;\n",
       "    }\n",
       "\n",
       "    .dataframe tbody tr th {\n",
       "        vertical-align: top;\n",
       "    }\n",
       "\n",
       "    .dataframe thead th {\n",
       "        text-align: right;\n",
       "    }\n",
       "</style>\n",
       "<table border=\"1\" class=\"dataframe\">\n",
       "  <thead>\n",
       "    <tr style=\"text-align: right;\">\n",
       "      <th></th>\n",
       "      <th>lesion_id</th>\n",
       "      <th>image</th>\n",
       "      <th>age_approx</th>\n",
       "      <th>anatom_site_general</th>\n",
       "      <th>sex</th>\n",
       "      <th>lesion_type</th>\n",
       "      <th>lesion_type_id</th>\n",
       "    </tr>\n",
       "  </thead>\n",
       "  <tbody>\n",
       "    <tr>\n",
       "      <th>0</th>\n",
       "      <td>BCN_0000013</td>\n",
       "      <td>1</td>\n",
       "      <td>1</td>\n",
       "      <td>1</td>\n",
       "      <td>1</td>\n",
       "      <td>1</td>\n",
       "      <td>1</td>\n",
       "    </tr>\n",
       "    <tr>\n",
       "      <th>1</th>\n",
       "      <td>BCN_0000020</td>\n",
       "      <td>1</td>\n",
       "      <td>1</td>\n",
       "      <td>1</td>\n",
       "      <td>1</td>\n",
       "      <td>1</td>\n",
       "      <td>1</td>\n",
       "    </tr>\n",
       "    <tr>\n",
       "      <th>2</th>\n",
       "      <td>BCN_0000039</td>\n",
       "      <td>1</td>\n",
       "      <td>1</td>\n",
       "      <td>1</td>\n",
       "      <td>1</td>\n",
       "      <td>1</td>\n",
       "      <td>1</td>\n",
       "    </tr>\n",
       "    <tr>\n",
       "      <th>3</th>\n",
       "      <td>BCN_0000053</td>\n",
       "      <td>1</td>\n",
       "      <td>1</td>\n",
       "      <td>1</td>\n",
       "      <td>1</td>\n",
       "      <td>1</td>\n",
       "      <td>1</td>\n",
       "    </tr>\n",
       "    <tr>\n",
       "      <th>4</th>\n",
       "      <td>BCN_0000059</td>\n",
       "      <td>1</td>\n",
       "      <td>1</td>\n",
       "      <td>1</td>\n",
       "      <td>1</td>\n",
       "      <td>1</td>\n",
       "      <td>1</td>\n",
       "    </tr>\n",
       "  </tbody>\n",
       "</table>\n",
       "</div>"
      ],
      "text/plain": [
       "     lesion_id  image  age_approx  anatom_site_general  sex  lesion_type  \\\n",
       "0  BCN_0000013      1           1                    1    1            1   \n",
       "1  BCN_0000020      1           1                    1    1            1   \n",
       "2  BCN_0000039      1           1                    1    1            1   \n",
       "3  BCN_0000053      1           1                    1    1            1   \n",
       "4  BCN_0000059      1           1                    1    1            1   \n",
       "\n",
       "   lesion_type_id  \n",
       "0               1  \n",
       "1               1  \n",
       "2               1  \n",
       "3               1  \n",
       "4               1  "
      ]
     },
     "execution_count": 17,
     "metadata": {},
     "output_type": "execute_result"
    }
   ],
   "source": [
    "lesion_image_count = merged_data.groupby('lesion_id').count()\n",
    "\n",
    "lesion_single_image = lesion_image_count[lesion_image_count['image'] == 1]\n",
    "\n",
    "lesion_single_image.reset_index(inplace=True)\n",
    "\n",
    "lesion_single_image.head()"
   ]
  },
  {
   "cell_type": "code",
   "execution_count": 18,
   "metadata": {},
   "outputs": [
    {
     "data": {
      "text/html": [
       "<div>\n",
       "<style scoped>\n",
       "    .dataframe tbody tr th:only-of-type {\n",
       "        vertical-align: middle;\n",
       "    }\n",
       "\n",
       "    .dataframe tbody tr th {\n",
       "        vertical-align: top;\n",
       "    }\n",
       "\n",
       "    .dataframe thead th {\n",
       "        text-align: right;\n",
       "    }\n",
       "</style>\n",
       "<table border=\"1\" class=\"dataframe\">\n",
       "  <thead>\n",
       "    <tr style=\"text-align: right;\">\n",
       "      <th></th>\n",
       "      <th>image</th>\n",
       "      <th>age_approx</th>\n",
       "      <th>anatom_site_general</th>\n",
       "      <th>lesion_id</th>\n",
       "      <th>sex</th>\n",
       "      <th>lesion_type</th>\n",
       "      <th>lesion_type_id</th>\n",
       "      <th>duplicates</th>\n",
       "    </tr>\n",
       "  </thead>\n",
       "  <tbody>\n",
       "    <tr>\n",
       "      <th>21311</th>\n",
       "      <td>ISIC_0073247</td>\n",
       "      <td>85.0</td>\n",
       "      <td>head/neck</td>\n",
       "      <td>BCN_0003925</td>\n",
       "      <td>female</td>\n",
       "      <td>BCC</td>\n",
       "      <td>2</td>\n",
       "      <td>has_duplicates</td>\n",
       "    </tr>\n",
       "    <tr>\n",
       "      <th>21312</th>\n",
       "      <td>ISIC_0073248</td>\n",
       "      <td>65.0</td>\n",
       "      <td>anterior torso</td>\n",
       "      <td>BCN_0001819</td>\n",
       "      <td>male</td>\n",
       "      <td>BKL</td>\n",
       "      <td>4</td>\n",
       "      <td>has_duplicates</td>\n",
       "    </tr>\n",
       "    <tr>\n",
       "      <th>21313</th>\n",
       "      <td>ISIC_0073249</td>\n",
       "      <td>70.0</td>\n",
       "      <td>lower extremity</td>\n",
       "      <td>BCN_0001085</td>\n",
       "      <td>male</td>\n",
       "      <td>MEL</td>\n",
       "      <td>8</td>\n",
       "      <td>has_duplicates</td>\n",
       "    </tr>\n",
       "    <tr>\n",
       "      <th>21314</th>\n",
       "      <td>ISIC_0073251</td>\n",
       "      <td>55.0</td>\n",
       "      <td>palms/soles</td>\n",
       "      <td>BCN_0002083</td>\n",
       "      <td>female</td>\n",
       "      <td>NV</td>\n",
       "      <td>1</td>\n",
       "      <td>has_duplicates</td>\n",
       "    </tr>\n",
       "    <tr>\n",
       "      <th>21315</th>\n",
       "      <td>ISIC_0073254</td>\n",
       "      <td>50.0</td>\n",
       "      <td>upper extremity</td>\n",
       "      <td>BCN_0001079</td>\n",
       "      <td>male</td>\n",
       "      <td>BKL</td>\n",
       "      <td>4</td>\n",
       "      <td>has_duplicates</td>\n",
       "    </tr>\n",
       "  </tbody>\n",
       "</table>\n",
       "</div>"
      ],
      "text/plain": [
       "              image  age_approx anatom_site_general    lesion_id     sex  \\\n",
       "21311  ISIC_0073247        85.0           head/neck  BCN_0003925  female   \n",
       "21312  ISIC_0073248        65.0      anterior torso  BCN_0001819    male   \n",
       "21313  ISIC_0073249        70.0     lower extremity  BCN_0001085    male   \n",
       "21314  ISIC_0073251        55.0         palms/soles  BCN_0002083  female   \n",
       "21315  ISIC_0073254        50.0     upper extremity  BCN_0001079    male   \n",
       "\n",
       "      lesion_type  lesion_type_id      duplicates  \n",
       "21311         BCC               2  has_duplicates  \n",
       "21312         BKL               4  has_duplicates  \n",
       "21313         MEL               8  has_duplicates  \n",
       "21314          NV               1  has_duplicates  \n",
       "21315         BKL               4  has_duplicates  "
      ]
     },
     "execution_count": 18,
     "metadata": {},
     "output_type": "execute_result"
    }
   ],
   "source": [
    "# Identify lesion_ids that have only one image\n",
    "unique_list = list(lesion_single_image['lesion_id'])\n",
    "\n",
    "def find_duplicates(x):\n",
    "    if x in unique_list:\n",
    "        return 'no_duplicates'\n",
    "    else:\n",
    "        return 'has_duplicates'\n",
    "\n",
    "merged_data['duplicates'] = merged_data['lesion_id']\n",
    "\n",
    "merged_data['duplicates'] = merged_data['duplicates'].apply(find_duplicates)\n",
    "\n",
    "merged_data.tail()\n"
   ]
  },
  {
   "cell_type": "code",
   "execution_count": 19,
   "metadata": {},
   "outputs": [
    {
     "data": {
      "text/plain": [
       "duplicates\n",
       "has_duplicates    15959\n",
       "no_duplicates      5357\n",
       "Name: count, dtype: int64"
      ]
     },
     "execution_count": 19,
     "metadata": {},
     "output_type": "execute_result"
    }
   ],
   "source": [
    "merged_data['duplicates'].value_counts()"
   ]
  },
  {
   "cell_type": "code",
   "execution_count": 20,
   "metadata": {},
   "outputs": [
    {
     "data": {
      "text/plain": [
       "(5357, 8)"
      ]
     },
     "execution_count": 20,
     "metadata": {},
     "output_type": "execute_result"
    }
   ],
   "source": [
    "no_duplicate_data = merged_data[merged_data['duplicates'] == 'no_duplicates']\n",
    "no_duplicate_data.shape"
   ]
  },
  {
   "cell_type": "code",
   "execution_count": 27,
   "metadata": {},
   "outputs": [
    {
     "name": "stdout",
     "output_type": "stream",
     "text": [
      "(911, 8)\n",
      "lesion_type\n",
      "NV      623\n",
      "BKL     107\n",
      "MEL      74\n",
      "BCC      60\n",
      "SCC      18\n",
      "AK       14\n",
      "VASC      8\n",
      "DF        7\n",
      "Name: count, dtype: int64\n"
     ]
    }
   ],
   "source": [
    "y = no_duplicate_data['lesion_type']\n",
    "\n",
    "_, val_data = train_test_split(no_duplicate_data, test_size=0.17, random_state=101, stratify=y)\n",
    "\n",
    "print(val_data.shape)\n",
    "\n",
    "print(val_data['lesion_type'].value_counts())"
   ]
  },
  {
   "cell_type": "code",
   "execution_count": 28,
   "metadata": {},
   "outputs": [
    {
     "name": "stdout",
     "output_type": "stream",
     "text": [
      "20405\n",
      "911\n"
     ]
    }
   ],
   "source": [
    "# split into train or validation\n",
    "def find_val_rows(x):\n",
    "    val_list = list(val_data['image'])\n",
    "    \n",
    "    if str(x) in val_list:\n",
    "        return 'val'\n",
    "    else:\n",
    "        return 'train'\n",
    "\n",
    "\n",
    "merged_data['train_or_val'] = merged_data['image']\n",
    "merged_data['train_or_val'] = merged_data['train_or_val'].apply(find_val_rows)\n",
    "   \n",
    "train_data = merged_data[merged_data['train_or_val'] == 'train']\n",
    "\n",
    "\n",
    "print(len(train_data))\n",
    "print(len(val_data))"
   ]
  },
  {
   "cell_type": "code",
   "execution_count": 29,
   "metadata": {},
   "outputs": [
    {
     "name": "stdout",
     "output_type": "stream",
     "text": [
      "lesion_type\n",
      "NV      9128\n",
      "MEL     4027\n",
      "BCC     3185\n",
      "BKL     2188\n",
      "AK       831\n",
      "SCC      604\n",
      "DF       228\n",
      "VASC     214\n",
      "Name: count, dtype: int64\n",
      "lesion_type\n",
      "NV      623\n",
      "BKL     107\n",
      "MEL      74\n",
      "BCC      60\n",
      "SCC      18\n",
      "AK       14\n",
      "VASC      8\n",
      "DF        7\n",
      "Name: count, dtype: int64\n"
     ]
    }
   ],
   "source": [
    "print(train_data['lesion_type'].value_counts())\n",
    "print(val_data['lesion_type'].value_counts())"
   ]
  },
  {
   "cell_type": "code",
   "execution_count": 31,
   "metadata": {},
   "outputs": [
    {
     "name": "stdout",
     "output_type": "stream",
     "text": [
      "Folders created successfully!\n"
     ]
    }
   ],
   "source": [
    "# base_dir = current_path + '/ISIC2019Dataset/ISIC_2019_Images/'\n",
    "# train_dir = os.path.join(base_dir, 'train_dir')\n",
    "# val_dir = os.path.join(base_dir, 'val_dir')\n",
    "\n",
    "# if not os.path.exists(train_dir):\n",
    "#     os.mkdir(train_dir)\n",
    "\n",
    "# if not os.path.exists(val_dir):\n",
    "#     os.mkdir(val_dir)\n",
    "\n",
    "# for c in classes:\n",
    "#     # folders inside train_dir\n",
    "#     class_train_dir = os.path.join(train_dir, c)\n",
    "#     if not os.path.exists(class_train_dir):\n",
    "#         os.mkdir(class_train_dir)\n",
    "\n",
    "#     # folders inside val_dir\n",
    "#     class_val_dir = os.path.join(val_dir, c)\n",
    "#     if not os.path.exists(class_val_dir):\n",
    "#         os.mkdir(class_val_dir)\n",
    "\n",
    "# print(\"Folders created successfully!\")"
   ]
  },
  {
   "cell_type": "code",
   "execution_count": 33,
   "metadata": {},
   "outputs": [
    {
     "data": {
      "text/html": [
       "<div>\n",
       "<style scoped>\n",
       "    .dataframe tbody tr th:only-of-type {\n",
       "        vertical-align: middle;\n",
       "    }\n",
       "\n",
       "    .dataframe tbody tr th {\n",
       "        vertical-align: top;\n",
       "    }\n",
       "\n",
       "    .dataframe thead th {\n",
       "        text-align: right;\n",
       "    }\n",
       "</style>\n",
       "<table border=\"1\" class=\"dataframe\">\n",
       "  <thead>\n",
       "    <tr style=\"text-align: right;\">\n",
       "      <th></th>\n",
       "      <th>image</th>\n",
       "      <th>age_approx</th>\n",
       "      <th>anatom_site_general</th>\n",
       "      <th>lesion_id</th>\n",
       "      <th>sex</th>\n",
       "      <th>lesion_type</th>\n",
       "      <th>lesion_type_id</th>\n",
       "      <th>duplicates</th>\n",
       "      <th>train_or_val</th>\n",
       "    </tr>\n",
       "  </thead>\n",
       "  <tbody>\n",
       "    <tr>\n",
       "      <th>0</th>\n",
       "      <td>ISIC_0012653_downsampled</td>\n",
       "      <td>50.0</td>\n",
       "      <td>posterior torso</td>\n",
       "      <td>MSK4_0011169</td>\n",
       "      <td>female</td>\n",
       "      <td>NV</td>\n",
       "      <td>1</td>\n",
       "      <td>no_duplicates</td>\n",
       "      <td>train</td>\n",
       "    </tr>\n",
       "    <tr>\n",
       "      <th>1</th>\n",
       "      <td>ISIC_0012654_downsampled</td>\n",
       "      <td>30.0</td>\n",
       "      <td>lower extremity</td>\n",
       "      <td>MSK4_0011170</td>\n",
       "      <td>female</td>\n",
       "      <td>NV</td>\n",
       "      <td>1</td>\n",
       "      <td>no_duplicates</td>\n",
       "      <td>train</td>\n",
       "    </tr>\n",
       "    <tr>\n",
       "      <th>2</th>\n",
       "      <td>ISIC_0012655_downsampled</td>\n",
       "      <td>35.0</td>\n",
       "      <td>upper extremity</td>\n",
       "      <td>MSK4_0011171</td>\n",
       "      <td>female</td>\n",
       "      <td>NV</td>\n",
       "      <td>1</td>\n",
       "      <td>no_duplicates</td>\n",
       "      <td>train</td>\n",
       "    </tr>\n",
       "    <tr>\n",
       "      <th>4</th>\n",
       "      <td>ISIC_0012657_downsampled</td>\n",
       "      <td>20.0</td>\n",
       "      <td>upper extremity</td>\n",
       "      <td>MSK4_0011173</td>\n",
       "      <td>female</td>\n",
       "      <td>NV</td>\n",
       "      <td>1</td>\n",
       "      <td>no_duplicates</td>\n",
       "      <td>train</td>\n",
       "    </tr>\n",
       "    <tr>\n",
       "      <th>5</th>\n",
       "      <td>ISIC_0012658_downsampled</td>\n",
       "      <td>40.0</td>\n",
       "      <td>posterior torso</td>\n",
       "      <td>MSK4_0010465</td>\n",
       "      <td>male</td>\n",
       "      <td>NV</td>\n",
       "      <td>1</td>\n",
       "      <td>no_duplicates</td>\n",
       "      <td>train</td>\n",
       "    </tr>\n",
       "    <tr>\n",
       "      <th>...</th>\n",
       "      <td>...</td>\n",
       "      <td>...</td>\n",
       "      <td>...</td>\n",
       "      <td>...</td>\n",
       "      <td>...</td>\n",
       "      <td>...</td>\n",
       "      <td>...</td>\n",
       "      <td>...</td>\n",
       "      <td>...</td>\n",
       "    </tr>\n",
       "    <tr>\n",
       "      <th>21311</th>\n",
       "      <td>ISIC_0073247</td>\n",
       "      <td>85.0</td>\n",
       "      <td>head/neck</td>\n",
       "      <td>BCN_0003925</td>\n",
       "      <td>female</td>\n",
       "      <td>BCC</td>\n",
       "      <td>2</td>\n",
       "      <td>has_duplicates</td>\n",
       "      <td>train</td>\n",
       "    </tr>\n",
       "    <tr>\n",
       "      <th>21312</th>\n",
       "      <td>ISIC_0073248</td>\n",
       "      <td>65.0</td>\n",
       "      <td>anterior torso</td>\n",
       "      <td>BCN_0001819</td>\n",
       "      <td>male</td>\n",
       "      <td>BKL</td>\n",
       "      <td>4</td>\n",
       "      <td>has_duplicates</td>\n",
       "      <td>train</td>\n",
       "    </tr>\n",
       "    <tr>\n",
       "      <th>21313</th>\n",
       "      <td>ISIC_0073249</td>\n",
       "      <td>70.0</td>\n",
       "      <td>lower extremity</td>\n",
       "      <td>BCN_0001085</td>\n",
       "      <td>male</td>\n",
       "      <td>MEL</td>\n",
       "      <td>8</td>\n",
       "      <td>has_duplicates</td>\n",
       "      <td>train</td>\n",
       "    </tr>\n",
       "    <tr>\n",
       "      <th>21314</th>\n",
       "      <td>ISIC_0073251</td>\n",
       "      <td>55.0</td>\n",
       "      <td>palms/soles</td>\n",
       "      <td>BCN_0002083</td>\n",
       "      <td>female</td>\n",
       "      <td>NV</td>\n",
       "      <td>1</td>\n",
       "      <td>has_duplicates</td>\n",
       "      <td>train</td>\n",
       "    </tr>\n",
       "    <tr>\n",
       "      <th>21315</th>\n",
       "      <td>ISIC_0073254</td>\n",
       "      <td>50.0</td>\n",
       "      <td>upper extremity</td>\n",
       "      <td>BCN_0001079</td>\n",
       "      <td>male</td>\n",
       "      <td>BKL</td>\n",
       "      <td>4</td>\n",
       "      <td>has_duplicates</td>\n",
       "      <td>train</td>\n",
       "    </tr>\n",
       "  </tbody>\n",
       "</table>\n",
       "<p>20405 rows × 9 columns</p>\n",
       "</div>"
      ],
      "text/plain": [
       "                          image  age_approx anatom_site_general     lesion_id  \\\n",
       "0      ISIC_0012653_downsampled        50.0     posterior torso  MSK4_0011169   \n",
       "1      ISIC_0012654_downsampled        30.0     lower extremity  MSK4_0011170   \n",
       "2      ISIC_0012655_downsampled        35.0     upper extremity  MSK4_0011171   \n",
       "4      ISIC_0012657_downsampled        20.0     upper extremity  MSK4_0011173   \n",
       "5      ISIC_0012658_downsampled        40.0     posterior torso  MSK4_0010465   \n",
       "...                         ...         ...                 ...           ...   \n",
       "21311              ISIC_0073247        85.0           head/neck   BCN_0003925   \n",
       "21312              ISIC_0073248        65.0      anterior torso   BCN_0001819   \n",
       "21313              ISIC_0073249        70.0     lower extremity   BCN_0001085   \n",
       "21314              ISIC_0073251        55.0         palms/soles   BCN_0002083   \n",
       "21315              ISIC_0073254        50.0     upper extremity   BCN_0001079   \n",
       "\n",
       "          sex lesion_type  lesion_type_id      duplicates train_or_val  \n",
       "0      female          NV               1   no_duplicates        train  \n",
       "1      female          NV               1   no_duplicates        train  \n",
       "2      female          NV               1   no_duplicates        train  \n",
       "4      female          NV               1   no_duplicates        train  \n",
       "5        male          NV               1   no_duplicates        train  \n",
       "...       ...         ...             ...             ...          ...  \n",
       "21311  female         BCC               2  has_duplicates        train  \n",
       "21312    male         BKL               4  has_duplicates        train  \n",
       "21313    male         MEL               8  has_duplicates        train  \n",
       "21314  female          NV               1  has_duplicates        train  \n",
       "21315    male         BKL               4  has_duplicates        train  \n",
       "\n",
       "[20405 rows x 9 columns]"
      ]
     },
     "execution_count": 33,
     "metadata": {},
     "output_type": "execute_result"
    }
   ],
   "source": [
    "train_data"
   ]
  },
  {
   "cell_type": "code",
   "execution_count": 40,
   "metadata": {},
   "outputs": [],
   "source": [
    "# merged_data.set_index('image', inplace=True)\n",
    "folder = os.listdir(current_path + training_directory_path)\n",
    "\n",
    "train_list = list(train_data['image'])\n",
    "val_list = list(val_data['image'])\n",
    "\n",
    "\n",
    "\n",
    "for image in train_list:\n",
    "    \n",
    "    fname = image + '.jpg'\n",
    "    label = merged_data.loc[image,'lesion_type']\n",
    "    \n",
    "    if fname in folder:\n",
    "        src = os.path.join(current_path + training_directory_path, fname)\n",
    "        dst = os.path.join(train_dir, label, fname)\n",
    "        print(src)\n",
    "        print(dst)\n",
    "        shutil.copyfile(src, dst)\n",
    "\n",
    "\n",
    "\n",
    "for image in val_list:\n",
    "    \n",
    "    fname = image + '.jpg'\n",
    "    label = merged_data.loc[image,'lesion_type']\n",
    "    \n",
    "    if fname in folder:\n",
    "        src = os.path.join(current_path + training_directory_path, fname)\n",
    "        dst = os.path.join(val_dir, label, fname)\n",
    "        shutil.copyfile(src, dst)\n"
   ]
  },
  {
   "cell_type": "markdown",
   "metadata": {},
   "source": [
    "VGG16 Model"
   ]
  },
  {
   "cell_type": "code",
   "execution_count": 41,
   "metadata": {},
   "outputs": [
    {
     "name": "stdout",
     "output_type": "stream",
     "text": [
      "Train directory:\n",
      "NV: 9128 images\n",
      "BCC: 3185 images\n",
      "AK: 831 images\n",
      "BKL: 2188 images\n",
      "DF: 228 images\n",
      "VASC: 214 images\n",
      "SCC: 604 images\n",
      "MEL: 4027 images\n",
      "\n",
      "Validation directory:\n",
      "NV: 623 images\n",
      "BCC: 60 images\n",
      "AK: 14 images\n",
      "BKL: 107 images\n",
      "DF: 7 images\n",
      "VASC: 8 images\n",
      "SCC: 18 images\n",
      "MEL: 74 images\n"
     ]
    }
   ],
   "source": [
    "print(\"Train directory:\")\n",
    "for cls in classes:\n",
    "    print(f\"{cls}: {len(os.listdir(os.path.join(train_dir, cls)))} images\")\n",
    "\n",
    "print(\"\\nValidation directory:\")\n",
    "for cls in classes:\n",
    "    print(f\"{cls}: {len(os.listdir(os.path.join(val_dir, cls)))} images\")"
   ]
  },
  {
   "cell_type": "code",
   "execution_count": 45,
   "metadata": {},
   "outputs": [
    {
     "name": "stdout",
     "output_type": "stream",
     "text": [
      "Found 9128 images belonging to 1 classes.\n",
      "Found 3185 images belonging to 1 classes.\n",
      "Found 831 images belonging to 1 classes.\n",
      "Found 2188 images belonging to 1 classes.\n",
      "Found 228 images belonging to 1 classes.\n",
      "Found 214 images belonging to 1 classes.\n",
      "Found 604 images belonging to 1 classes.\n",
      "Found 4027 images belonging to 1 classes.\n",
      "Augmentation complete for all classes!\n"
     ]
    }
   ],
   "source": [
    "num_aug_images_wanted = 9200  \n",
    "batch_size = 50\n",
    "\n",
    "# Loop through each class to perform augmentation\n",
    "for img_class in classes:\n",
    "    \n",
    "    # Create a temporary directory for augmentation\n",
    "    aug_dir = os.path.join(base_dir, 'aug_dir')  # Augmentation directory\n",
    "\n",
    "    # Remove the directory if it exists to avoid the error\n",
    "    if os.path.exists(aug_dir):\n",
    "        shutil.rmtree(aug_dir)\n",
    "    \n",
    "    os.mkdir(aug_dir)\n",
    "    img_dir = os.path.join(aug_dir, 'img_dir')  # Directory for class images\n",
    "    os.mkdir(img_dir)\n",
    "\n",
    "    # List all images in the specific class folder (train_dir)\n",
    "    img_list = os.listdir(os.path.join(train_dir, img_class))\n",
    "\n",
    "    # Copy images from the class's train directory to the temporary img_dir\n",
    "    for fname in img_list:\n",
    "        src = os.path.join(train_dir, img_class, fname)\n",
    "        dst = os.path.join(img_dir, fname)\n",
    "        shutil.copyfile(src, dst)\n",
    "\n",
    "    # Define the path to the directory containing images for augmentation\n",
    "    path = aug_dir\n",
    "    save_path = os.path.join(train_dir, img_class)  # Save the augmented images to the same class folder\n",
    "\n",
    "    # Create a data generator with augmentation\n",
    "    datagen = ImageDataGenerator(\n",
    "        rotation_range=180,\n",
    "        width_shift_range=0.1,\n",
    "        height_shift_range=0.1,\n",
    "        zoom_range=0.1,\n",
    "        horizontal_flip=True,\n",
    "        vertical_flip=True,\n",
    "        fill_mode='nearest'\n",
    "    )\n",
    "\n",
    "    # Create the data generator\n",
    "    aug_datagen = datagen.flow_from_directory(\n",
    "        path,\n",
    "        save_to_dir=save_path,\n",
    "        save_format='jpg',\n",
    "        target_size=(224, 224),\n",
    "        batch_size=batch_size\n",
    "    )\n",
    "\n",
    "    # Calculate the number of batches needed to generate enough augmented images\n",
    "    num_files = len(os.listdir(img_dir))\n",
    "    num_batches = int(np.ceil((num_aug_images_wanted - num_files) / batch_size))\n",
    "\n",
    "    # Generate augmented images until the desired number is reached\n",
    "    for i in range(num_batches):\n",
    "        imgs, labels = next(aug_datagen)\n",
    "\n",
    "    # Clean up: remove the temporary augmentation directory\n",
    "    shutil.rmtree(aug_dir)\n",
    "\n",
    "print(\"Augmentation complete for all classes!\")"
   ]
  },
  {
   "cell_type": "code",
   "execution_count": 48,
   "metadata": {},
   "outputs": [
    {
     "name": "stdout",
     "output_type": "stream",
     "text": [
      "Found 70874 images belonging to 8 classes.\n",
      "Found 911 images belonging to 8 classes.\n",
      "Found 911 images belonging to 8 classes.\n"
     ]
    },
    {
     "name": "stderr",
     "output_type": "stream",
     "text": [
      "2024-10-11 16:12:39.934026: W tensorflow/tsl/framework/cpu_allocator_impl.cc:83] Allocation of 411041792 exceeds 10% of free system memory.\n",
      "2024-10-11 16:12:40.127690: W tensorflow/tsl/framework/cpu_allocator_impl.cc:83] Allocation of 411041792 exceeds 10% of free system memory.\n",
      "2024-10-11 16:12:40.185225: W tensorflow/tsl/framework/cpu_allocator_impl.cc:83] Allocation of 411041792 exceeds 10% of free system memory.\n"
     ]
    },
    {
     "name": "stdout",
     "output_type": "stream",
     "text": [
      "Downloading data from https://storage.googleapis.com/tensorflow/keras-applications/vgg16/vgg16_weights_tf_dim_ordering_tf_kernels.h5\n",
      "553467096/553467096 [==============================] - 15s 0us/step\n"
     ]
    },
    {
     "name": "stderr",
     "output_type": "stream",
     "text": [
      "2024-10-11 16:13:10.239753: W tensorflow/tsl/framework/cpu_allocator_impl.cc:83] Allocation of 411041792 exceeds 10% of free system memory.\n"
     ]
    },
    {
     "name": "stdout",
     "output_type": "stream",
     "text": [
      "Model: \"vgg16\"\n",
      "_________________________________________________________________\n",
      " Layer (type)                Output Shape              Param #   \n",
      "=================================================================\n",
      " input_1 (InputLayer)        [(None, 224, 224, 3)]     0         \n",
      "                                                                 \n",
      " block1_conv1 (Conv2D)       (None, 224, 224, 64)      1792      \n",
      "                                                                 \n",
      " block1_conv2 (Conv2D)       (None, 224, 224, 64)      36928     \n",
      "                                                                 \n",
      " block1_pool (MaxPooling2D)  (None, 112, 112, 64)      0         \n",
      "                                                                 \n",
      " block2_conv1 (Conv2D)       (None, 112, 112, 128)     73856     \n",
      "                                                                 \n",
      " block2_conv2 (Conv2D)       (None, 112, 112, 128)     147584    \n",
      "                                                                 \n",
      " block2_pool (MaxPooling2D)  (None, 56, 56, 128)       0         \n",
      "                                                                 \n",
      " block3_conv1 (Conv2D)       (None, 56, 56, 256)       295168    \n",
      "                                                                 \n",
      " block3_conv2 (Conv2D)       (None, 56, 56, 256)       590080    \n",
      "                                                                 \n",
      " block3_conv3 (Conv2D)       (None, 56, 56, 256)       590080    \n",
      "                                                                 \n",
      " block3_pool (MaxPooling2D)  (None, 28, 28, 256)       0         \n",
      "                                                                 \n",
      " block4_conv1 (Conv2D)       (None, 28, 28, 512)       1180160   \n",
      "                                                                 \n",
      " block4_conv2 (Conv2D)       (None, 28, 28, 512)       2359808   \n",
      "                                                                 \n",
      " block4_conv3 (Conv2D)       (None, 28, 28, 512)       2359808   \n",
      "                                                                 \n",
      " block4_pool (MaxPooling2D)  (None, 14, 14, 512)       0         \n",
      "                                                                 \n",
      " block5_conv1 (Conv2D)       (None, 14, 14, 512)       2359808   \n",
      "                                                                 \n",
      " block5_conv2 (Conv2D)       (None, 14, 14, 512)       2359808   \n",
      "                                                                 \n",
      " block5_conv3 (Conv2D)       (None, 14, 14, 512)       2359808   \n",
      "                                                                 \n",
      " block5_pool (MaxPooling2D)  (None, 7, 7, 512)         0         \n",
      "                                                                 \n",
      " flatten (Flatten)           (None, 25088)             0         \n",
      "                                                                 \n",
      " fc1 (Dense)                 (None, 4096)              102764544 \n",
      "                                                                 \n",
      " fc2 (Dense)                 (None, 4096)              16781312  \n",
      "                                                                 \n",
      " predictions (Dense)         (None, 1000)              4097000   \n",
      "                                                                 \n",
      "=================================================================\n",
      "Total params: 138357544 (527.79 MB)\n",
      "Trainable params: 138357544 (527.79 MB)\n",
      "Non-trainable params: 0 (0.00 Byte)\n",
      "_________________________________________________________________\n"
     ]
    }
   ],
   "source": [
    "num_train_samples = len(train_data)  \n",
    "num_val_samples = len(val_data)      \n",
    "\n",
    "train_batch_size = 20\n",
    "val_batch_size = 20\n",
    "\n",
    "# VGG16 requires 224x224 image size\n",
    "image_size = 224\n",
    "\n",
    "# steps per epoch\n",
    "train_steps = np.ceil(num_train_samples / train_batch_size)\n",
    "val_steps = np.ceil(num_val_samples / val_batch_size)\n",
    "\n",
    "# data augmentation and preprocessing\n",
    "datagen = ImageDataGenerator(\n",
    "    preprocessing_function=preprocess_input  # VGG16's preprocessing function\n",
    ")\n",
    "\n",
    "# load training and validation batches\n",
    "train_batches = datagen.flow_from_directory(\n",
    "    train_dir,\n",
    "    target_size=(image_size, image_size),\n",
    "    batch_size=train_batch_size\n",
    ")\n",
    "\n",
    "valid_batches = datagen.flow_from_directory(\n",
    "    val_dir,\n",
    "    target_size=(image_size, image_size),\n",
    "    batch_size=val_batch_size\n",
    ")\n",
    "\n",
    "test_batches = datagen.flow_from_directory(\n",
    "    val_dir,\n",
    "    target_size=(image_size, image_size),\n",
    "    batch_size=1,\n",
    "    shuffle=False\n",
    ")\n",
    "\n",
    "vgg16_model = VGG16()\n",
    "\n",
    "vgg16_model.summary()"
   ]
  },
  {
   "cell_type": "code",
   "execution_count": 49,
   "metadata": {},
   "outputs": [
    {
     "data": {
      "text/plain": [
       "23"
      ]
     },
     "execution_count": 49,
     "metadata": {},
     "output_type": "execute_result"
    }
   ],
   "source": [
    "len(vgg16_model.layers)\n"
   ]
  }
 ],
 "metadata": {
  "kernelspec": {
   "display_name": ".venv",
   "language": "python",
   "name": "python3"
  },
  "language_info": {
   "codemirror_mode": {
    "name": "ipython",
    "version": 3
   },
   "file_extension": ".py",
   "mimetype": "text/x-python",
   "name": "python",
   "nbconvert_exporter": "python",
   "pygments_lexer": "ipython3",
   "version": "3.8.10"
  }
 },
 "nbformat": 4,
 "nbformat_minor": 2
}
